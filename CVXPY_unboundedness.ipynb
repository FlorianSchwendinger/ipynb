{
 "cells": [
  {
   "cell_type": "markdown",
   "id": "8d918297",
   "metadata": {},
   "source": [
    "# Unboundedness detection often fails for the exponential cone\n",
    "\n",
    "Silvapulle (1981) gave simple criteria under which the MLE does not exist for the logistic regression model.\n",
    "In this context it is said that the MLE exists, if it is finite and unique. Since in the \n",
    "example given by Silavpulle (1981) the data is separated, the problem is unbounded. \n",
    "The example is chosen to demonstrate that the unboundedness detection for the exponential cone often fails.\n",
    "\n",
    "- **y** a factor with the levels `case` and `none-case`, giving the outcome of a standardized psychiatric interview.\n",
    "- **ghqs** an integer giving the general health questionnaire score."
   ]
  },
  {
   "cell_type": "code",
   "execution_count": 1,
   "id": "7adf9823",
   "metadata": {},
   "outputs": [],
   "source": [
    "import cvxpy as cp\n",
    "import cvxpy.settings as s\n",
    "import numpy as np\n",
    "import pprint\n",
    "pp = pprint.PrettyPrinter(depth=4)"
   ]
  },
  {
   "cell_type": "markdown",
   "id": "f6d89acf",
   "metadata": {},
   "source": [
    "## Generate separated data"
   ]
  },
  {
   "cell_type": "code",
   "execution_count": 2,
   "id": "b692cf58",
   "metadata": {},
   "outputs": [
    {
     "data": {
      "text/plain": [
       "[(35, 2), (35,)]"
      ]
     },
     "execution_count": 2,
     "metadata": {},
     "output_type": "execute_result"
    }
   ],
   "source": [
    "X = np.matrix(\"1 2 ; 1 4 ; 1 5 ; 1 5 ; 1 5 ; 1 7 ; 1 7 ; 1 10 ; 1 0 ; 1 0 ; 1 0 ; 1 0 ; 1 0 ; 1 0 ; 1 0 ; 1 0 ; 1 0 ; 1 0 ; 1 0 ; 1 0 ; 1 0 ; 1 0 ; 1 0 ; 1 0 ; 1 0 ; 1 0 ; 1 1 ; 1 1 ; 1 1 ; 1 1 ; 1 1 ; 1 1 ; 1 1 ; 1 1 ; 1 2\")\n",
    "Y = np.array([1, 1, 1, 1, 1, 1, 1, 1, 0, 0, 0, 0, 0, 0, 0, 0, 0, 0, 0, 0, 0, 0, 0, 0, 0, 0, 0, 0, 0, 0, 0, 0, 0, 0, 0])\n",
    "[X.shape, Y.shape]"
   ]
  },
  {
   "cell_type": "markdown",
   "id": "99f91ce2",
   "metadata": {},
   "source": [
    "## Logistic regression"
   ]
  },
  {
   "cell_type": "code",
   "execution_count": 3,
   "id": "8bfbec75",
   "metadata": {},
   "outputs": [],
   "source": [
    "def loglike(X, y, beta):\n",
    "    eta = X.dot(beta)\n",
    "    return eta.dot(y).item() - np.sum(np.log(1 + np.exp(eta)))"
   ]
  },
  {
   "cell_type": "code",
   "execution_count": 4,
   "id": "d7b51da2",
   "metadata": {},
   "outputs": [],
   "source": [
    "beta = cp.Variable(X.shape[1])\n",
    "log_likelihood = cp.sum(cp.multiply(Y, X @ beta) - cp.logistic(X @ beta))\n",
    "problem = cp.Problem(cp.Maximize(log_likelihood))"
   ]
  },
  {
   "cell_type": "markdown",
   "id": "8242f639",
   "metadata": {},
   "source": [
    "### ECOS"
   ]
  },
  {
   "cell_type": "code",
   "execution_count": 5,
   "id": "d871b21c",
   "metadata": {},
   "outputs": [
    {
     "name": "stdout",
     "output_type": "stream",
     "text": [
      "Problem status: optimal\n",
      "\n",
      "Info:\n",
      "{'dcost': 1.3862953226819956,\n",
      " 'dinf': 0.0,\n",
      " 'dinfres': nan,\n",
      " 'dres': 4.452163947615004e-10,\n",
      " 'exitFlag': 0,\n",
      " 'gap': 4.3774859605216765e-09,\n",
      " 'infostring': 'Optimal solution found',\n",
      " 'iter': 32,\n",
      " 'mi_iter': -1,\n",
      " 'numerr': 0,\n",
      " 'pcost': 1.386295336242354,\n",
      " 'pinf': 0.0,\n",
      " 'pinfres': 0.8209648886264107,\n",
      " 'pres': 5.798838790207396e-10,\n",
      " 'r0': 1e-08,\n",
      " 'relgap': 3.157686453166974e-09,\n",
      " 'timing': {'runtime': 0.0018657880000000002,\n",
      "            'tsetup': 0.000101291,\n",
      "            'tsolve': 0.001764497}}\n",
      "\n",
      "Coefficients:\n",
      "[-38.28689184  19.14344586]\n"
     ]
    }
   ],
   "source": [
    "problem.solve(solver = \"ECOS\", reltol = 1e-32)\n",
    "beta_ecos = beta.value\n",
    "print(f\"Problem status: {problem.status}\")\n",
    "print(\"\\nInfo:\")\n",
    "pp.pprint(problem.solution.attr[\"solver_specific_stats\"][\"info\"])\n",
    "print(\"\\nCoefficients:\")\n",
    "print(beta_ecos)"
   ]
  },
  {
   "cell_type": "markdown",
   "id": "043b2084",
   "metadata": {},
   "source": [
    "### SCS"
   ]
  },
  {
   "cell_type": "code",
   "execution_count": 6,
   "id": "96808d48",
   "metadata": {},
   "outputs": [
    {
     "name": "stdout",
     "output_type": "stream",
     "text": [
      "Problem status: optimal\n",
      "\n",
      "Info:\n",
      "{'accel_time': 17.3171960000021,\n",
      " 'accepted_accel_steps': 2,\n",
      " 'comp_slack': 3.3787373813011824e-07,\n",
      " 'cone_time': 27752.63602400004,\n",
      " 'dobj': 1.387025136547876,\n",
      " 'gap': 9.988237454417664e-06,\n",
      " 'iter': 122450,\n",
      " 'lin_sys_time': 425.797392000008,\n",
      " 'pobj': 1.3870151483104216,\n",
      " 'rejected_accel_steps': 1112,\n",
      " 'res_dual': 2.1863802012257032e-05,\n",
      " 'res_infeas': 32.443551798780796,\n",
      " 'res_pri': 0.0006354718076612859,\n",
      " 'res_unbdd_a': nan,\n",
      " 'res_unbdd_p': nan,\n",
      " 'scale': 0.1,\n",
      " 'scale_updates': 0,\n",
      " 'setup_time': 0.228409,\n",
      " 'solve_time': 28349.882642,\n",
      " 'status': 'solved',\n",
      " 'status_val': 1}\n",
      "\n",
      "Coefficients:\n",
      "[-23.73555382  11.86772503]\n"
     ]
    }
   ],
   "source": [
    "problem.solve(solver = \"SCS\", max_iters = 200000)\n",
    "beta_scs = beta.value\n",
    "print(f\"Problem status: {problem.status}\")\n",
    "print(\"\\nInfo:\")\n",
    "pp.pprint(problem.solution.attr[\"solver_specific_stats\"][\"info\"])\n",
    "print(\"\\nCoefficients:\")\n",
    "print(beta_scs)"
   ]
  },
  {
   "cell_type": "markdown",
   "id": "b265fbb1",
   "metadata": {},
   "source": [
    "### MOSEK"
   ]
  },
  {
   "cell_type": "code",
   "execution_count": 7,
   "id": "5157e3b8",
   "metadata": {
    "scrolled": true
   },
   "outputs": [
    {
     "name": "stdout",
     "output_type": "stream",
     "text": [
      "Problem status: optimal\n",
      "\n",
      "Info:\n",
      "{'solve_time': 0.012694120407104492}\n",
      "\n",
      "Coefficients:\n",
      "[-40.10371589  20.05185876]\n"
     ]
    }
   ],
   "source": [
    "problem.solve(solver = \"MOSEK\")\n",
    "beta_mosek = beta.value\n",
    "print(f\"Problem status: {problem.status}\")\n",
    "print(\"\\nInfo:\")\n",
    "pp.pprint(problem.solution.attr)\n",
    "print(\"\\nCoefficients:\")\n",
    "print(beta_mosek)"
   ]
  },
  {
   "cell_type": "markdown",
   "id": "13a5be64",
   "metadata": {},
   "source": [
    "## Compare results"
   ]
  },
  {
   "cell_type": "code",
   "execution_count": 8,
   "id": "d544cdf8",
   "metadata": {},
   "outputs": [],
   "source": [
    "logli_ecos = loglike(X, Y, beta_mosek)\n",
    "logli_scs = loglike(X, Y, beta_scs)\n",
    "logli_mosek = loglike(X, Y, beta_mosek)\n",
    "# Just to make it more obvious that [-2 * Inf, Inf] is the solution.\n",
    "some_large_number = 60  # not that large to avoid overflow\n",
    "guess_beta = [-2 * some_large_number, some_large_number]\n",
    "logli_better_beta = loglike(X, Y, guess_beta)"
   ]
  },
  {
   "cell_type": "code",
   "execution_count": 9,
   "id": "2e2bd8c8",
   "metadata": {},
   "outputs": [
    {
     "data": {
      "text/plain": [
       "3"
      ]
     },
     "execution_count": 9,
     "metadata": {},
     "output_type": "execute_result"
    }
   ],
   "source": [
    "np.argmax([logli_ecos, logli_scs, logli_mosek, logli_better_beta])"
   ]
  },
  {
   "cell_type": "code",
   "execution_count": 10,
   "id": "fb332404",
   "metadata": {},
   "outputs": [
    {
     "data": {
      "text/plain": [
       "'1.2.0'"
      ]
     },
     "execution_count": 10,
     "metadata": {},
     "output_type": "execute_result"
    }
   ],
   "source": [
    "cp.__version__"
   ]
  }
 ],
 "metadata": {
  "kernelspec": {
   "display_name": "cvxpy",
   "language": "python",
   "name": "cvxpy"
  },
  "language_info": {
   "codemirror_mode": {
    "name": "ipython",
    "version": 3
   },
   "file_extension": ".py",
   "mimetype": "text/x-python",
   "name": "python",
   "nbconvert_exporter": "python",
   "pygments_lexer": "ipython3",
   "version": "3.8.13"
  }
 },
 "nbformat": 4,
 "nbformat_minor": 5
}
